{
 "cells": [
  {
   "cell_type": "markdown",
   "metadata": {},
   "source": [
    "# Nba Regular Season 2018-19 Data Challenge\n",
    "\n",
    "Your task will be to take the dataset given, and create an analysis answering the following 10 questions. This project will again test your knowledge of pandas in order to find the answers needed given the data you are presented with."
   ]
  },
  {
   "cell_type": "code",
   "execution_count": 1,
   "metadata": {},
   "outputs": [],
   "source": [
    "import numpy as np\n",
    "import pandas as pd"
   ]
  },
  {
   "cell_type": "code",
   "execution_count": 2,
   "metadata": {},
   "outputs": [
    {
     "data": {
      "text/html": [
       "<div>\n",
       "<style scoped>\n",
       "    .dataframe tbody tr th:only-of-type {\n",
       "        vertical-align: middle;\n",
       "    }\n",
       "\n",
       "    .dataframe tbody tr th {\n",
       "        vertical-align: top;\n",
       "    }\n",
       "\n",
       "    .dataframe thead th {\n",
       "        text-align: right;\n",
       "    }\n",
       "</style>\n",
       "<table border=\"1\" class=\"dataframe\">\n",
       "  <thead>\n",
       "    <tr style=\"text-align: right;\">\n",
       "      <th></th>\n",
       "      <th>Name</th>\n",
       "      <th>Height</th>\n",
       "      <th>Weight</th>\n",
       "      <th>Team</th>\n",
       "      <th>Age</th>\n",
       "      <th>Salary</th>\n",
       "      <th>Points</th>\n",
       "      <th>Blocks</th>\n",
       "      <th>Steals</th>\n",
       "      <th>Assists</th>\n",
       "      <th>...</th>\n",
       "      <th>MP</th>\n",
       "      <th>G</th>\n",
       "      <th>PER</th>\n",
       "      <th>OWS</th>\n",
       "      <th>DWS</th>\n",
       "      <th>WS</th>\n",
       "      <th>WS48</th>\n",
       "      <th>USG</th>\n",
       "      <th>BPM</th>\n",
       "      <th>VORP</th>\n",
       "    </tr>\n",
       "  </thead>\n",
       "  <tbody>\n",
       "    <tr>\n",
       "      <th>0</th>\n",
       "      <td>Alex Abrines</td>\n",
       "      <td>78</td>\n",
       "      <td>200</td>\n",
       "      <td>Oklahoma City Thunder</td>\n",
       "      <td>25</td>\n",
       "      <td>5455236</td>\n",
       "      <td>5.3</td>\n",
       "      <td>0.2</td>\n",
       "      <td>0.5</td>\n",
       "      <td>0.6</td>\n",
       "      <td>...</td>\n",
       "      <td>19.0</td>\n",
       "      <td>31</td>\n",
       "      <td>6.3</td>\n",
       "      <td>0.1</td>\n",
       "      <td>0.6</td>\n",
       "      <td>0.6</td>\n",
       "      <td>0.053</td>\n",
       "      <td>12.2</td>\n",
       "      <td>-3.4</td>\n",
       "      <td>-0.2</td>\n",
       "    </tr>\n",
       "    <tr>\n",
       "      <th>1</th>\n",
       "      <td>Quincy Acy</td>\n",
       "      <td>79</td>\n",
       "      <td>240</td>\n",
       "      <td>Phoenix Suns</td>\n",
       "      <td>28</td>\n",
       "      <td>213949</td>\n",
       "      <td>1.7</td>\n",
       "      <td>0.4</td>\n",
       "      <td>0.1</td>\n",
       "      <td>0.8</td>\n",
       "      <td>...</td>\n",
       "      <td>12.3</td>\n",
       "      <td>10</td>\n",
       "      <td>2.9</td>\n",
       "      <td>-0.1</td>\n",
       "      <td>0.0</td>\n",
       "      <td>-0.1</td>\n",
       "      <td>-0.022</td>\n",
       "      <td>9.2</td>\n",
       "      <td>-5.9</td>\n",
       "      <td>-0.1</td>\n",
       "    </tr>\n",
       "    <tr>\n",
       "      <th>2</th>\n",
       "      <td>Jaylen Adams</td>\n",
       "      <td>74</td>\n",
       "      <td>190</td>\n",
       "      <td>Atlanta Hawks</td>\n",
       "      <td>22</td>\n",
       "      <td>236854</td>\n",
       "      <td>3.2</td>\n",
       "      <td>0.1</td>\n",
       "      <td>0.4</td>\n",
       "      <td>1.9</td>\n",
       "      <td>...</td>\n",
       "      <td>12.6</td>\n",
       "      <td>34</td>\n",
       "      <td>7.6</td>\n",
       "      <td>-0.1</td>\n",
       "      <td>0.2</td>\n",
       "      <td>0.1</td>\n",
       "      <td>0.011</td>\n",
       "      <td>13.5</td>\n",
       "      <td>-4.4</td>\n",
       "      <td>-0.3</td>\n",
       "    </tr>\n",
       "    <tr>\n",
       "      <th>3</th>\n",
       "      <td>Steven Adams</td>\n",
       "      <td>84</td>\n",
       "      <td>265</td>\n",
       "      <td>Oklahoma City Thunder</td>\n",
       "      <td>25</td>\n",
       "      <td>24157304</td>\n",
       "      <td>13.9</td>\n",
       "      <td>1.0</td>\n",
       "      <td>1.5</td>\n",
       "      <td>1.6</td>\n",
       "      <td>...</td>\n",
       "      <td>33.4</td>\n",
       "      <td>80</td>\n",
       "      <td>18.5</td>\n",
       "      <td>5.1</td>\n",
       "      <td>4.0</td>\n",
       "      <td>9.1</td>\n",
       "      <td>0.163</td>\n",
       "      <td>16.4</td>\n",
       "      <td>2.7</td>\n",
       "      <td>3.2</td>\n",
       "    </tr>\n",
       "    <tr>\n",
       "      <th>4</th>\n",
       "      <td>Bam Adebayo</td>\n",
       "      <td>82</td>\n",
       "      <td>255</td>\n",
       "      <td>Miami Heat</td>\n",
       "      <td>21</td>\n",
       "      <td>2955840</td>\n",
       "      <td>8.9</td>\n",
       "      <td>0.8</td>\n",
       "      <td>0.9</td>\n",
       "      <td>2.2</td>\n",
       "      <td>...</td>\n",
       "      <td>23.3</td>\n",
       "      <td>82</td>\n",
       "      <td>17.9</td>\n",
       "      <td>3.4</td>\n",
       "      <td>3.4</td>\n",
       "      <td>6.8</td>\n",
       "      <td>0.171</td>\n",
       "      <td>15.8</td>\n",
       "      <td>3.0</td>\n",
       "      <td>2.4</td>\n",
       "    </tr>\n",
       "  </tbody>\n",
       "</table>\n",
       "<p>5 rows × 27 columns</p>\n",
       "</div>"
      ],
      "text/plain": [
       "           Name  Height  Weight                   Team  Age    Salary  Points  \\\n",
       "0  Alex Abrines      78     200  Oklahoma City Thunder   25   5455236     5.3   \n",
       "1    Quincy Acy      79     240           Phoenix Suns   28    213949     1.7   \n",
       "2  Jaylen Adams      74     190          Atlanta Hawks   22    236854     3.2   \n",
       "3  Steven Adams      84     265  Oklahoma City Thunder   25  24157304    13.9   \n",
       "4   Bam Adebayo      82     255             Miami Heat   21   2955840     8.9   \n",
       "\n",
       "   Blocks  Steals  Assists  ...    MP   G   PER  OWS  DWS   WS   WS48   USG  \\\n",
       "0     0.2     0.5      0.6  ...  19.0  31   6.3  0.1  0.6  0.6  0.053  12.2   \n",
       "1     0.4     0.1      0.8  ...  12.3  10   2.9 -0.1  0.0 -0.1 -0.022   9.2   \n",
       "2     0.1     0.4      1.9  ...  12.6  34   7.6 -0.1  0.2  0.1  0.011  13.5   \n",
       "3     1.0     1.5      1.6  ...  33.4  80  18.5  5.1  4.0  9.1  0.163  16.4   \n",
       "4     0.8     0.9      2.2  ...  23.3  82  17.9  3.4  3.4  6.8  0.171  15.8   \n",
       "\n",
       "   BPM  VORP  \n",
       "0 -3.4  -0.2  \n",
       "1 -5.9  -0.1  \n",
       "2 -4.4  -0.3  \n",
       "3  2.7   3.2  \n",
       "4  3.0   2.4  \n",
       "\n",
       "[5 rows x 27 columns]"
      ]
     },
     "execution_count": 2,
     "metadata": {},
     "output_type": "execute_result"
    }
   ],
   "source": [
    "nba_stats = pd.read_csv('files/nbastats2018-2019.csv')\n",
    "nba_stats.head()"
   ]
  },
  {
   "cell_type": "code",
   "execution_count": 3,
   "metadata": {},
   "outputs": [
    {
     "data": {
      "text/html": [
       "<div>\n",
       "<style scoped>\n",
       "    .dataframe tbody tr th:only-of-type {\n",
       "        vertical-align: middle;\n",
       "    }\n",
       "\n",
       "    .dataframe tbody tr th {\n",
       "        vertical-align: top;\n",
       "    }\n",
       "\n",
       "    .dataframe thead th {\n",
       "        text-align: right;\n",
       "    }\n",
       "</style>\n",
       "<table border=\"1\" class=\"dataframe\">\n",
       "  <thead>\n",
       "    <tr style=\"text-align: right;\">\n",
       "      <th></th>\n",
       "      <th>RANK</th>\n",
       "      <th>FULL NAME</th>\n",
       "      <th>TEAM</th>\n",
       "      <th>POS</th>\n",
       "    </tr>\n",
       "  </thead>\n",
       "  <tbody>\n",
       "    <tr>\n",
       "      <th>0</th>\n",
       "      <td>NaN</td>\n",
       "      <td>Alex Abrines</td>\n",
       "      <td>Okc</td>\n",
       "      <td>G</td>\n",
       "    </tr>\n",
       "    <tr>\n",
       "      <th>1</th>\n",
       "      <td>NaN</td>\n",
       "      <td>Quincy Acy</td>\n",
       "      <td>Pho</td>\n",
       "      <td>F</td>\n",
       "    </tr>\n",
       "    <tr>\n",
       "      <th>2</th>\n",
       "      <td>NaN</td>\n",
       "      <td>Jaylen Adams</td>\n",
       "      <td>Atl</td>\n",
       "      <td>G</td>\n",
       "    </tr>\n",
       "    <tr>\n",
       "      <th>3</th>\n",
       "      <td>NaN</td>\n",
       "      <td>Steven Adams</td>\n",
       "      <td>Okc</td>\n",
       "      <td>C</td>\n",
       "    </tr>\n",
       "    <tr>\n",
       "      <th>4</th>\n",
       "      <td>NaN</td>\n",
       "      <td>Bam Adebayo</td>\n",
       "      <td>Mia</td>\n",
       "      <td>C-F</td>\n",
       "    </tr>\n",
       "  </tbody>\n",
       "</table>\n",
       "</div>"
      ],
      "text/plain": [
       "   RANK     FULL NAME TEAM  POS\n",
       "0   NaN  Alex Abrines  Okc    G\n",
       "1   NaN    Quincy Acy  Pho    F\n",
       "2   NaN  Jaylen Adams  Atl    G\n",
       "3   NaN  Steven Adams  Okc    C\n",
       "4   NaN   Bam Adebayo  Mia  C-F"
      ]
     },
     "execution_count": 3,
     "metadata": {},
     "output_type": "execute_result"
    }
   ],
   "source": [
    "# adding this dataset with POS\n",
    "nba_player_pos = pd.read_csv('files/2018-19nbaplayer_pos.csv')\n",
    "nba_player_pos.head()"
   ]
  },
  {
   "cell_type": "code",
   "execution_count": 4,
   "metadata": {},
   "outputs": [
    {
     "name": "stdout",
     "output_type": "stream",
     "text": [
      "<class 'pandas.core.frame.DataFrame'>\n",
      "RangeIndex: 521 entries, 0 to 520\n",
      "Data columns (total 27 columns):\n",
      " #   Column    Non-Null Count  Dtype  \n",
      "---  ------    --------------  -----  \n",
      " 0   Name      521 non-null    object \n",
      " 1   Height    521 non-null    int64  \n",
      " 2   Weight    521 non-null    int64  \n",
      " 3   Team      470 non-null    object \n",
      " 4   Age       521 non-null    int64  \n",
      " 5   Salary    521 non-null    object \n",
      " 6   Points    521 non-null    float64\n",
      " 7   Blocks    521 non-null    float64\n",
      " 8   Steals    521 non-null    float64\n",
      " 9   Assists   521 non-null    float64\n",
      " 10  Rebounds  521 non-null    float64\n",
      " 11  FT%       499 non-null    float64\n",
      " 12  FTA       521 non-null    float64\n",
      " 13  FG3%      489 non-null    float64\n",
      " 14  FG3A      521 non-null    float64\n",
      " 15  FG%       519 non-null    float64\n",
      " 16  FGA       521 non-null    float64\n",
      " 17  MP        521 non-null    float64\n",
      " 18  G         521 non-null    int64  \n",
      " 19  PER       521 non-null    float64\n",
      " 20  OWS       521 non-null    float64\n",
      " 21  DWS       521 non-null    float64\n",
      " 22  WS        521 non-null    float64\n",
      " 23  WS48      521 non-null    float64\n",
      " 24  USG       521 non-null    float64\n",
      " 25  BPM       521 non-null    float64\n",
      " 26  VORP      521 non-null    float64\n",
      "dtypes: float64(20), int64(4), object(3)\n",
      "memory usage: 110.0+ KB\n"
     ]
    }
   ],
   "source": [
    "nba_stats.info()"
   ]
  },
  {
   "cell_type": "markdown",
   "metadata": {},
   "source": [
    "# What was the average age of player in the league?"
   ]
  },
  {
   "cell_type": "code",
   "execution_count": 5,
   "metadata": {},
   "outputs": [
    {
     "name": "stdout",
     "output_type": "stream",
     "text": [
      "\n",
      "The average age of player in the league is 25.9\n"
     ]
    },
    {
     "data": {
      "text/plain": [
       "count    521.000000\n",
       "mean      25.900192\n",
       "std        4.208236\n",
       "min       19.000000\n",
       "25%       23.000000\n",
       "50%       25.000000\n",
       "75%       29.000000\n",
       "max       42.000000\n",
       "Name: Age, dtype: float64"
      ]
     },
     "execution_count": 5,
     "metadata": {},
     "output_type": "execute_result"
    }
   ],
   "source": [
    "print(f\"\\nThe average age of player in the league is {nba_stats['Age'].mean().round(decimals=2)}\")\n",
    "nba_stats['Age'].describe()"
   ]
  },
  {
   "cell_type": "markdown",
   "metadata": {},
   "source": [
    "# What player scored the most points?"
   ]
  },
  {
   "cell_type": "code",
   "execution_count": 6,
   "metadata": {},
   "outputs": [
    {
     "data": {
      "text/plain": [
       "True"
      ]
     },
     "execution_count": 6,
     "metadata": {},
     "output_type": "execute_result"
    }
   ],
   "source": [
    "nba_stats['Name'].is_unique"
   ]
  },
  {
   "cell_type": "code",
   "execution_count": 7,
   "metadata": {},
   "outputs": [
    {
     "name": "stdout",
     "output_type": "stream",
     "text": [
      "\n",
      "James Harden scored the most points.\n"
     ]
    },
    {
     "data": {
      "text/html": [
       "<div>\n",
       "<style scoped>\n",
       "    .dataframe tbody tr th:only-of-type {\n",
       "        vertical-align: middle;\n",
       "    }\n",
       "\n",
       "    .dataframe tbody tr th {\n",
       "        vertical-align: top;\n",
       "    }\n",
       "\n",
       "    .dataframe thead th {\n",
       "        text-align: right;\n",
       "    }\n",
       "</style>\n",
       "<table border=\"1\" class=\"dataframe\">\n",
       "  <thead>\n",
       "    <tr style=\"text-align: right;\">\n",
       "      <th></th>\n",
       "      <th>Name</th>\n",
       "      <th>Team</th>\n",
       "      <th>Points</th>\n",
       "    </tr>\n",
       "  </thead>\n",
       "  <tbody>\n",
       "    <tr>\n",
       "      <th>202</th>\n",
       "      <td>James Harden</td>\n",
       "      <td>Houston Rockets</td>\n",
       "      <td>36.1</td>\n",
       "    </tr>\n",
       "    <tr>\n",
       "      <th>179</th>\n",
       "      <td>Paul George</td>\n",
       "      <td>Oklahoma City Thunder</td>\n",
       "      <td>28.0</td>\n",
       "    </tr>\n",
       "    <tr>\n",
       "      <th>15</th>\n",
       "      <td>Giannis Antetokounmpo</td>\n",
       "      <td>Milwaukee Bucks</td>\n",
       "      <td>27.7</td>\n",
       "    </tr>\n",
       "    <tr>\n",
       "      <th>151</th>\n",
       "      <td>Joel Embiid</td>\n",
       "      <td>Philadelphia 76ers</td>\n",
       "      <td>27.5</td>\n",
       "    </tr>\n",
       "    <tr>\n",
       "      <th>253</th>\n",
       "      <td>LeBron James</td>\n",
       "      <td>Los Angeles Lakers</td>\n",
       "      <td>27.4</td>\n",
       "    </tr>\n",
       "  </tbody>\n",
       "</table>\n",
       "</div>"
      ],
      "text/plain": [
       "                      Name                   Team  Points\n",
       "202           James Harden        Houston Rockets    36.1\n",
       "179            Paul George  Oklahoma City Thunder    28.0\n",
       "15   Giannis Antetokounmpo        Milwaukee Bucks    27.7\n",
       "151            Joel Embiid     Philadelphia 76ers    27.5\n",
       "253           LeBron James     Los Angeles Lakers    27.4"
      ]
     },
     "execution_count": 7,
     "metadata": {},
     "output_type": "execute_result"
    }
   ],
   "source": [
    "print(\"\\nJames Harden scored the most points.\")\n",
    "nba_stats.sort_values('Points', ascending= False)[['Name', 'Team', 'Points']].head()"
   ]
  },
  {
   "cell_type": "markdown",
   "metadata": {},
   "source": [
    "# What player had the most blocks during the season? Was it a post player (F/C)?"
   ]
  },
  {
   "cell_type": "code",
   "execution_count": 8,
   "metadata": {},
   "outputs": [],
   "source": [
    "nba_player_pos = nba_player_pos.rename(columns= {'FULL NAME': 'Name'})\n",
    "nba_player_pos\n",
    "\n",
    "nba_merged = pd.merge(nba_stats, nba_player_pos, on= 'Name', how= 'left')\n",
    "# nba_merged.info()"
   ]
  },
  {
   "cell_type": "code",
   "execution_count": 9,
   "metadata": {},
   "outputs": [
    {
     "name": "stdout",
     "output_type": "stream",
     "text": [
      "\n",
      "Myles Turner had the most blocks during the season. He was an F-C.\n"
     ]
    },
    {
     "data": {
      "text/html": [
       "<div>\n",
       "<style scoped>\n",
       "    .dataframe tbody tr th:only-of-type {\n",
       "        vertical-align: middle;\n",
       "    }\n",
       "\n",
       "    .dataframe tbody tr th {\n",
       "        vertical-align: top;\n",
       "    }\n",
       "\n",
       "    .dataframe thead th {\n",
       "        text-align: right;\n",
       "    }\n",
       "</style>\n",
       "<table border=\"1\" class=\"dataframe\">\n",
       "  <thead>\n",
       "    <tr style=\"text-align: right;\">\n",
       "      <th></th>\n",
       "      <th>Name</th>\n",
       "      <th>Team</th>\n",
       "      <th>POS</th>\n",
       "      <th>Blocks</th>\n",
       "    </tr>\n",
       "  </thead>\n",
       "  <tbody>\n",
       "    <tr>\n",
       "      <th>556</th>\n",
       "      <td>Myles Turner</td>\n",
       "      <td>Indiana Pacers</td>\n",
       "      <td>F-C</td>\n",
       "      <td>2.7</td>\n",
       "    </tr>\n",
       "    <tr>\n",
       "      <th>485</th>\n",
       "      <td>Mitchell Robinson</td>\n",
       "      <td>New York Knicks</td>\n",
       "      <td>C</td>\n",
       "      <td>2.4</td>\n",
       "    </tr>\n",
       "    <tr>\n",
       "      <th>140</th>\n",
       "      <td>Anthony Davis</td>\n",
       "      <td>New Orleans Pelicans</td>\n",
       "      <td>F-C</td>\n",
       "      <td>2.4</td>\n",
       "    </tr>\n",
       "    <tr>\n",
       "      <th>210</th>\n",
       "      <td>Rudy Gobert</td>\n",
       "      <td>Utah Jazz</td>\n",
       "      <td>C</td>\n",
       "      <td>2.3</td>\n",
       "    </tr>\n",
       "    <tr>\n",
       "      <th>350</th>\n",
       "      <td>Brook Lopez</td>\n",
       "      <td>Milwaukee Bucks</td>\n",
       "      <td>C</td>\n",
       "      <td>2.2</td>\n",
       "    </tr>\n",
       "  </tbody>\n",
       "</table>\n",
       "</div>"
      ],
      "text/plain": [
       "                  Name                  Team  POS  Blocks\n",
       "556       Myles Turner        Indiana Pacers  F-C     2.7\n",
       "485  Mitchell Robinson       New York Knicks    C     2.4\n",
       "140      Anthony Davis  New Orleans Pelicans  F-C     2.4\n",
       "210        Rudy Gobert             Utah Jazz    C     2.3\n",
       "350        Brook Lopez       Milwaukee Bucks    C     2.2"
      ]
     },
     "execution_count": 9,
     "metadata": {},
     "output_type": "execute_result"
    }
   ],
   "source": [
    "print(\"\\nMyles Turner had the most blocks during the season. He was an F-C.\")\n",
    "nba_merged.sort_values('Blocks', ascending= False)[['Name', 'Team', 'POS', 'Blocks']].head()"
   ]
  },
  {
   "cell_type": "markdown",
   "metadata": {},
   "source": [
    "# Based on the regular season, who had the best chance to win a title given their win percentage?"
   ]
  },
  {
   "cell_type": "code",
   "execution_count": 10,
   "metadata": {},
   "outputs": [
    {
     "name": "stdout",
     "output_type": "stream",
     "text": [
      "\n",
      "James Harden had the best chance to win a title based on his win percentage.\n"
     ]
    },
    {
     "data": {
      "text/html": [
       "<div>\n",
       "<style scoped>\n",
       "    .dataframe tbody tr th:only-of-type {\n",
       "        vertical-align: middle;\n",
       "    }\n",
       "\n",
       "    .dataframe tbody tr th {\n",
       "        vertical-align: top;\n",
       "    }\n",
       "\n",
       "    .dataframe thead th {\n",
       "        text-align: right;\n",
       "    }\n",
       "</style>\n",
       "<table border=\"1\" class=\"dataframe\">\n",
       "  <thead>\n",
       "    <tr style=\"text-align: right;\">\n",
       "      <th></th>\n",
       "      <th>Name</th>\n",
       "      <th>Team</th>\n",
       "      <th>WS</th>\n",
       "    </tr>\n",
       "  </thead>\n",
       "  <tbody>\n",
       "    <tr>\n",
       "      <th>202</th>\n",
       "      <td>James Harden</td>\n",
       "      <td>Houston Rockets</td>\n",
       "      <td>15.2</td>\n",
       "    </tr>\n",
       "    <tr>\n",
       "      <th>183</th>\n",
       "      <td>Rudy Gobert</td>\n",
       "      <td>Utah Jazz</td>\n",
       "      <td>14.4</td>\n",
       "    </tr>\n",
       "    <tr>\n",
       "      <th>15</th>\n",
       "      <td>Giannis Antetokounmpo</td>\n",
       "      <td>Milwaukee Bucks</td>\n",
       "      <td>14.4</td>\n",
       "    </tr>\n",
       "    <tr>\n",
       "      <th>299</th>\n",
       "      <td>Damian Lillard</td>\n",
       "      <td>Portland Trail Blazers</td>\n",
       "      <td>12.1</td>\n",
       "    </tr>\n",
       "    <tr>\n",
       "      <th>179</th>\n",
       "      <td>Paul George</td>\n",
       "      <td>Oklahoma City Thunder</td>\n",
       "      <td>11.9</td>\n",
       "    </tr>\n",
       "  </tbody>\n",
       "</table>\n",
       "</div>"
      ],
      "text/plain": [
       "                      Name                    Team    WS\n",
       "202           James Harden         Houston Rockets  15.2\n",
       "183            Rudy Gobert               Utah Jazz  14.4\n",
       "15   Giannis Antetokounmpo         Milwaukee Bucks  14.4\n",
       "299         Damian Lillard  Portland Trail Blazers  12.1\n",
       "179            Paul George   Oklahoma City Thunder  11.9"
      ]
     },
     "execution_count": 10,
     "metadata": {},
     "output_type": "execute_result"
    }
   ],
   "source": [
    "print(\"\\nJames Harden had the best chance to win a title based on his win percentage.\")\n",
    "nba_stats.sort_values('WS', ascending= False)[['Name', 'Team', 'WS']].head()"
   ]
  },
  {
   "cell_type": "markdown",
   "metadata": {},
   "source": [
    "# What player had the best 3-pt percentage? "
   ]
  },
  {
   "cell_type": "code",
   "execution_count": 11,
   "metadata": {},
   "outputs": [
    {
     "name": "stdout",
     "output_type": "stream",
     "text": [
      "\n",
      "These 4 players: Scott Machado, Jordan Sibert, Trevon Duval, and Eric Moreland had the best 3-pt percentage.\n"
     ]
    },
    {
     "data": {
      "text/html": [
       "<div>\n",
       "<style scoped>\n",
       "    .dataframe tbody tr th:only-of-type {\n",
       "        vertical-align: middle;\n",
       "    }\n",
       "\n",
       "    .dataframe tbody tr th {\n",
       "        vertical-align: top;\n",
       "    }\n",
       "\n",
       "    .dataframe thead th {\n",
       "        text-align: right;\n",
       "    }\n",
       "</style>\n",
       "<table border=\"1\" class=\"dataframe\">\n",
       "  <thead>\n",
       "    <tr style=\"text-align: right;\">\n",
       "      <th></th>\n",
       "      <th>Name</th>\n",
       "      <th>Team</th>\n",
       "      <th>FG3%</th>\n",
       "    </tr>\n",
       "  </thead>\n",
       "  <tbody>\n",
       "    <tr>\n",
       "      <th>312</th>\n",
       "      <td>Scott Machado</td>\n",
       "      <td>Los Angeles Lakers</td>\n",
       "      <td>1.000</td>\n",
       "    </tr>\n",
       "    <tr>\n",
       "      <th>439</th>\n",
       "      <td>Jordan Sibert</td>\n",
       "      <td>Atlanta Hawks</td>\n",
       "      <td>1.000</td>\n",
       "    </tr>\n",
       "    <tr>\n",
       "      <th>147</th>\n",
       "      <td>Trevon Duval</td>\n",
       "      <td>NaN</td>\n",
       "      <td>1.000</td>\n",
       "    </tr>\n",
       "    <tr>\n",
       "      <th>352</th>\n",
       "      <td>Eric Moreland</td>\n",
       "      <td>Phoenix Suns</td>\n",
       "      <td>1.000</td>\n",
       "    </tr>\n",
       "    <tr>\n",
       "      <th>95</th>\n",
       "      <td>Troy Caupain</td>\n",
       "      <td>NaN</td>\n",
       "      <td>0.667</td>\n",
       "    </tr>\n",
       "  </tbody>\n",
       "</table>\n",
       "</div>"
      ],
      "text/plain": [
       "              Name                Team   FG3%\n",
       "312  Scott Machado  Los Angeles Lakers  1.000\n",
       "439  Jordan Sibert       Atlanta Hawks  1.000\n",
       "147   Trevon Duval                 NaN  1.000\n",
       "352  Eric Moreland        Phoenix Suns  1.000\n",
       "95    Troy Caupain                 NaN  0.667"
      ]
     },
     "execution_count": 11,
     "metadata": {},
     "output_type": "execute_result"
    }
   ],
   "source": [
    "print(\"\\nThese 4 players: Scott Machado, Jordan Sibert, Trevon Duval, and Eric Moreland had the best 3-pt percentage.\")\n",
    "nba_stats.sort_values('FG3%', ascending= False)[['Name', 'Team', 'FG3%']].head()"
   ]
  },
  {
   "cell_type": "markdown",
   "metadata": {},
   "source": [
    "# Who played the most minutes during the season"
   ]
  },
  {
   "cell_type": "code",
   "execution_count": 12,
   "metadata": {},
   "outputs": [
    {
     "name": "stdout",
     "output_type": "stream",
     "text": [
      "\n",
      "Paul George and Bradley Beal played the most minutes during the season.\n"
     ]
    },
    {
     "data": {
      "text/html": [
       "<div>\n",
       "<style scoped>\n",
       "    .dataframe tbody tr th:only-of-type {\n",
       "        vertical-align: middle;\n",
       "    }\n",
       "\n",
       "    .dataframe tbody tr th {\n",
       "        vertical-align: top;\n",
       "    }\n",
       "\n",
       "    .dataframe thead th {\n",
       "        text-align: right;\n",
       "    }\n",
       "</style>\n",
       "<table border=\"1\" class=\"dataframe\">\n",
       "  <thead>\n",
       "    <tr style=\"text-align: right;\">\n",
       "      <th></th>\n",
       "      <th>Name</th>\n",
       "      <th>Team</th>\n",
       "      <th>MP</th>\n",
       "    </tr>\n",
       "  </thead>\n",
       "  <tbody>\n",
       "    <tr>\n",
       "      <th>179</th>\n",
       "      <td>Paul George</td>\n",
       "      <td>Oklahoma City Thunder</td>\n",
       "      <td>36.9</td>\n",
       "    </tr>\n",
       "    <tr>\n",
       "      <th>37</th>\n",
       "      <td>Bradley Beal</td>\n",
       "      <td>Washington Wizards</td>\n",
       "      <td>36.9</td>\n",
       "    </tr>\n",
       "    <tr>\n",
       "      <th>202</th>\n",
       "      <td>James Harden</td>\n",
       "      <td>Houston Rockets</td>\n",
       "      <td>36.8</td>\n",
       "    </tr>\n",
       "    <tr>\n",
       "      <th>496</th>\n",
       "      <td>Russell Westbrook</td>\n",
       "      <td>Oklahoma City Thunder</td>\n",
       "      <td>36.0</td>\n",
       "    </tr>\n",
       "    <tr>\n",
       "      <th>226</th>\n",
       "      <td>Jrue Holiday</td>\n",
       "      <td>New Orleans Pelicans</td>\n",
       "      <td>35.9</td>\n",
       "    </tr>\n",
       "  </tbody>\n",
       "</table>\n",
       "</div>"
      ],
      "text/plain": [
       "                  Name                   Team    MP\n",
       "179        Paul George  Oklahoma City Thunder  36.9\n",
       "37        Bradley Beal     Washington Wizards  36.9\n",
       "202       James Harden        Houston Rockets  36.8\n",
       "496  Russell Westbrook  Oklahoma City Thunder  36.0\n",
       "226       Jrue Holiday   New Orleans Pelicans  35.9"
      ]
     },
     "execution_count": 12,
     "metadata": {},
     "output_type": "execute_result"
    }
   ],
   "source": [
    "print(\"\\nPaul George and Bradley Beal played the most minutes during the season.\")\n",
    "nba_stats.sort_values('MP', ascending= False)[['Name', 'Team', 'MP']].head()"
   ]
  },
  {
   "cell_type": "markdown",
   "metadata": {},
   "source": [
    "# What player given their player effiecency rating was the clutchest during the season?"
   ]
  },
  {
   "cell_type": "code",
   "execution_count": 13,
   "metadata": {},
   "outputs": [
    {
     "name": "stdout",
     "output_type": "stream",
     "text": [
      "\n",
      "Zhou Qi was the clutchest during the season based on his player efficiency rating.\n"
     ]
    },
    {
     "data": {
      "text/html": [
       "<div>\n",
       "<style scoped>\n",
       "    .dataframe tbody tr th:only-of-type {\n",
       "        vertical-align: middle;\n",
       "    }\n",
       "\n",
       "    .dataframe tbody tr th {\n",
       "        vertical-align: top;\n",
       "    }\n",
       "\n",
       "    .dataframe thead th {\n",
       "        text-align: right;\n",
       "    }\n",
       "</style>\n",
       "<table border=\"1\" class=\"dataframe\">\n",
       "  <thead>\n",
       "    <tr style=\"text-align: right;\">\n",
       "      <th></th>\n",
       "      <th>Name</th>\n",
       "      <th>Team</th>\n",
       "      <th>PER</th>\n",
       "    </tr>\n",
       "  </thead>\n",
       "  <tbody>\n",
       "    <tr>\n",
       "      <th>405</th>\n",
       "      <td>Zhou Qi</td>\n",
       "      <td>Houston Rockets</td>\n",
       "      <td>80.4</td>\n",
       "    </tr>\n",
       "    <tr>\n",
       "      <th>147</th>\n",
       "      <td>Trevon Duval</td>\n",
       "      <td>NaN</td>\n",
       "      <td>38.3</td>\n",
       "    </tr>\n",
       "    <tr>\n",
       "      <th>394</th>\n",
       "      <td>Gary Payton II</td>\n",
       "      <td>Washington Wizards</td>\n",
       "      <td>36.9</td>\n",
       "    </tr>\n",
       "    <tr>\n",
       "      <th>501</th>\n",
       "      <td>Alan Williams</td>\n",
       "      <td>NaN</td>\n",
       "      <td>32.9</td>\n",
       "    </tr>\n",
       "    <tr>\n",
       "      <th>15</th>\n",
       "      <td>Giannis Antetokounmpo</td>\n",
       "      <td>Milwaukee Bucks</td>\n",
       "      <td>30.9</td>\n",
       "    </tr>\n",
       "  </tbody>\n",
       "</table>\n",
       "</div>"
      ],
      "text/plain": [
       "                      Name                Team   PER\n",
       "405                Zhou Qi     Houston Rockets  80.4\n",
       "147           Trevon Duval                 NaN  38.3\n",
       "394         Gary Payton II  Washington Wizards  36.9\n",
       "501          Alan Williams                 NaN  32.9\n",
       "15   Giannis Antetokounmpo     Milwaukee Bucks  30.9"
      ]
     },
     "execution_count": 13,
     "metadata": {},
     "output_type": "execute_result"
    }
   ],
   "source": [
    "print(\"\\nZhou Qi was the clutchest during the season based on his player efficiency rating.\")\n",
    "nba_stats.sort_values('PER', ascending= False)[['Name', 'Team', 'PER']].head()"
   ]
  },
  {
   "cell_type": "markdown",
   "metadata": {},
   "source": [
    "# What team had the youngest roster?"
   ]
  },
  {
   "cell_type": "code",
   "execution_count": 15,
   "metadata": {},
   "outputs": [
    {
     "name": "stdout",
     "output_type": "stream",
     "text": [
      "\n",
      "Chicago Bulls had the youngest roster by the player's average age.\n"
     ]
    },
    {
     "data": {
      "text/html": [
       "<style type=\"text/css\">\n",
       "</style>\n",
       "<table id=\"T_0d4a3\">\n",
       "  <thead>\n",
       "    <tr>\n",
       "      <th class=\"blank level0\" >&nbsp;</th>\n",
       "      <th id=\"T_0d4a3_level0_col0\" class=\"col_heading level0 col0\" >Team</th>\n",
       "      <th id=\"T_0d4a3_level0_col1\" class=\"col_heading level0 col1\" >Avg_age</th>\n",
       "    </tr>\n",
       "  </thead>\n",
       "  <tbody>\n",
       "    <tr>\n",
       "      <th id=\"T_0d4a3_level0_row0\" class=\"row_heading level0 row0\" >4</th>\n",
       "      <td id=\"T_0d4a3_row0_col0\" class=\"data row0 col0\" >Chicago Bulls</td>\n",
       "      <td id=\"T_0d4a3_row0_col1\" class=\"data row0 col1\" >24.31</td>\n",
       "    </tr>\n",
       "    <tr>\n",
       "      <th id=\"T_0d4a3_level0_row1\" class=\"row_heading level0 row1\" >25</th>\n",
       "      <td id=\"T_0d4a3_row1_col0\" class=\"data row1 col0\" >Sacramento Kings</td>\n",
       "      <td id=\"T_0d4a3_row1_col1\" class=\"data row1 col1\" >24.40</td>\n",
       "    </tr>\n",
       "    <tr>\n",
       "      <th id=\"T_0d4a3_level0_row2\" class=\"row_heading level0 row2\" >21</th>\n",
       "      <td id=\"T_0d4a3_row2_col0\" class=\"data row2 col0\" >Orlando Magic</td>\n",
       "      <td id=\"T_0d4a3_row2_col1\" class=\"data row2 col1\" >24.53</td>\n",
       "    </tr>\n",
       "    <tr>\n",
       "      <th id=\"T_0d4a3_level0_row3\" class=\"row_heading level0 row3\" >19</th>\n",
       "      <td id=\"T_0d4a3_row3_col0\" class=\"data row3 col0\" >New York Knicks</td>\n",
       "      <td id=\"T_0d4a3_row3_col1\" class=\"data row3 col1\" >24.62</td>\n",
       "    </tr>\n",
       "    <tr>\n",
       "      <th id=\"T_0d4a3_level0_row4\" class=\"row_heading level0 row4\" >23</th>\n",
       "      <td id=\"T_0d4a3_row4_col0\" class=\"data row4 col0\" >Phoenix Suns</td>\n",
       "      <td id=\"T_0d4a3_row4_col1\" class=\"data row4 col1\" >24.76</td>\n",
       "    </tr>\n",
       "  </tbody>\n",
       "</table>\n"
      ],
      "text/plain": [
       "<pandas.io.formats.style.Styler at 0x11685dc90>"
      ]
     },
     "execution_count": 15,
     "metadata": {},
     "output_type": "execute_result"
    }
   ],
   "source": [
    "print(\"\\nChicago Bulls had the youngest roster by the player's average age.\")\n",
    "nba_stats.groupby('Team', as_index= False)['Age'].mean().sort_values('Age').head().rename(columns= {'Age': 'Avg_age'}).style.format({'Avg_age': '{0:.2f}'})"
   ]
  },
  {
   "cell_type": "markdown",
   "metadata": {},
   "source": [
    "# Who is the highest paid player during the seasion?"
   ]
  },
  {
   "cell_type": "code",
   "execution_count": 16,
   "metadata": {},
   "outputs": [
    {
     "name": "stdout",
     "output_type": "stream",
     "text": [
      "\n",
      "Stephen Curry is the highest paid player during the season.\n"
     ]
    },
    {
     "data": {
      "text/html": [
       "<style type=\"text/css\">\n",
       "</style>\n",
       "<table id=\"T_66472\">\n",
       "  <thead>\n",
       "    <tr>\n",
       "      <th class=\"blank level0\" >&nbsp;</th>\n",
       "      <th id=\"T_66472_level0_col0\" class=\"col_heading level0 col0\" >Name</th>\n",
       "      <th id=\"T_66472_level0_col1\" class=\"col_heading level0 col1\" >Team</th>\n",
       "      <th id=\"T_66472_level0_col2\" class=\"col_heading level0 col2\" >Salary</th>\n",
       "    </tr>\n",
       "  </thead>\n",
       "  <tbody>\n",
       "    <tr>\n",
       "      <th id=\"T_66472_level0_row0\" class=\"row_heading level0 row0\" >121</th>\n",
       "      <td id=\"T_66472_row0_col0\" class=\"data row0 col0\" >Stephen Curry</td>\n",
       "      <td id=\"T_66472_row0_col1\" class=\"data row0 col1\" >Golden State Warriors</td>\n",
       "      <td id=\"T_66472_row0_col2\" class=\"data row0 col2\" >37,457,154</td>\n",
       "    </tr>\n",
       "    <tr>\n",
       "      <th id=\"T_66472_level0_row1\" class=\"row_heading level0 row1\" >391</th>\n",
       "      <td id=\"T_66472_row1_col0\" class=\"data row1 col0\" >Chris Paul</td>\n",
       "      <td id=\"T_66472_row1_col1\" class=\"data row1 col1\" >Houston Rockets</td>\n",
       "      <td id=\"T_66472_row1_col2\" class=\"data row1 col2\" >35,654,150</td>\n",
       "    </tr>\n",
       "    <tr>\n",
       "      <th id=\"T_66472_level0_row2\" class=\"row_heading level0 row2\" >496</th>\n",
       "      <td id=\"T_66472_row2_col0\" class=\"data row2 col0\" >Russell Westbrook</td>\n",
       "      <td id=\"T_66472_row2_col1\" class=\"data row2 col1\" >Oklahoma City Thunder</td>\n",
       "      <td id=\"T_66472_row2_col2\" class=\"data row2 col2\" >35,654,150</td>\n",
       "    </tr>\n",
       "    <tr>\n",
       "      <th id=\"T_66472_level0_row3\" class=\"row_heading level0 row3\" >253</th>\n",
       "      <td id=\"T_66472_row3_col0\" class=\"data row3 col0\" >LeBron James</td>\n",
       "      <td id=\"T_66472_row3_col1\" class=\"data row3 col1\" >Los Angeles Lakers</td>\n",
       "      <td id=\"T_66472_row3_col2\" class=\"data row3 col2\" >35,654,150</td>\n",
       "    </tr>\n",
       "    <tr>\n",
       "      <th id=\"T_66472_level0_row4\" class=\"row_heading level0 row4\" >198</th>\n",
       "      <td id=\"T_66472_row4_col0\" class=\"data row4 col0\" >Blake Griffin</td>\n",
       "      <td id=\"T_66472_row4_col1\" class=\"data row4 col1\" >Detroit Pistons</td>\n",
       "      <td id=\"T_66472_row4_col2\" class=\"data row4 col2\" >32,088,932</td>\n",
       "    </tr>\n",
       "  </tbody>\n",
       "</table>\n"
      ],
      "text/plain": [
       "<pandas.io.formats.style.Styler at 0x117222cd0>"
      ]
     },
     "execution_count": 16,
     "metadata": {},
     "output_type": "execute_result"
    }
   ],
   "source": [
    "nba_stats['Salary'] = pd.to_numeric(nba_stats['Salary'], errors='coerce')\n",
    "# nba_stats['Salary'].info()\n",
    "\n",
    "print(\"\\nStephen Curry is the highest paid player during the season.\")\n",
    "nba_stats.sort_values('Salary', ascending= False)[['Name', 'Team', 'Salary']].head().style.format({'Salary': '{0:,.0f}'})"
   ]
  },
  {
   "cell_type": "markdown",
   "metadata": {},
   "source": [
    "# At the end of a game, who WOULDN'T you want on the Free Throw Line?"
   ]
  },
  {
   "cell_type": "code",
   "execution_count": 19,
   "metadata": {},
   "outputs": [
    {
     "name": "stdout",
     "output_type": "stream",
     "text": [
      "\n",
      "These 7 players had 0% of FT% and wouldn't be good on the Free Throw Line at the end of a game.\n"
     ]
    },
    {
     "data": {
      "text/html": [
       "<div>\n",
       "<style scoped>\n",
       "    .dataframe tbody tr th:only-of-type {\n",
       "        vertical-align: middle;\n",
       "    }\n",
       "\n",
       "    .dataframe tbody tr th {\n",
       "        vertical-align: top;\n",
       "    }\n",
       "\n",
       "    .dataframe thead th {\n",
       "        text-align: right;\n",
       "    }\n",
       "</style>\n",
       "<table border=\"1\" class=\"dataframe\">\n",
       "  <thead>\n",
       "    <tr style=\"text-align: right;\">\n",
       "      <th></th>\n",
       "      <th>Name</th>\n",
       "      <th>Team</th>\n",
       "      <th>FT%</th>\n",
       "    </tr>\n",
       "  </thead>\n",
       "  <tbody>\n",
       "    <tr>\n",
       "      <th>268</th>\n",
       "      <td>Terrence Jones</td>\n",
       "      <td>Houston Rockets</td>\n",
       "      <td>0.0</td>\n",
       "    </tr>\n",
       "    <tr>\n",
       "      <th>221</th>\n",
       "      <td>Haywood Highsmith</td>\n",
       "      <td>NaN</td>\n",
       "      <td>0.0</td>\n",
       "    </tr>\n",
       "    <tr>\n",
       "      <th>356</th>\n",
       "      <td>Donatas Motiejunas</td>\n",
       "      <td>San Antonio Spurs</td>\n",
       "      <td>0.0</td>\n",
       "    </tr>\n",
       "    <tr>\n",
       "      <th>502</th>\n",
       "      <td>C.J. Williams</td>\n",
       "      <td>NaN</td>\n",
       "      <td>0.0</td>\n",
       "    </tr>\n",
       "    <tr>\n",
       "      <th>154</th>\n",
       "      <td>Jacob Evans</td>\n",
       "      <td>Golden State Warriors</td>\n",
       "      <td>0.0</td>\n",
       "    </tr>\n",
       "    <tr>\n",
       "      <th>360</th>\n",
       "      <td>Dzanan Musa</td>\n",
       "      <td>Brooklyn Nets</td>\n",
       "      <td>0.0</td>\n",
       "    </tr>\n",
       "    <tr>\n",
       "      <th>325</th>\n",
       "      <td>Tahjere McCall</td>\n",
       "      <td>Brooklyn Nets</td>\n",
       "      <td>0.0</td>\n",
       "    </tr>\n",
       "  </tbody>\n",
       "</table>\n",
       "</div>"
      ],
      "text/plain": [
       "                   Name                   Team  FT%\n",
       "268      Terrence Jones        Houston Rockets  0.0\n",
       "221   Haywood Highsmith                    NaN  0.0\n",
       "356  Donatas Motiejunas      San Antonio Spurs  0.0\n",
       "502       C.J. Williams                    NaN  0.0\n",
       "154         Jacob Evans  Golden State Warriors  0.0\n",
       "360         Dzanan Musa          Brooklyn Nets  0.0\n",
       "325      Tahjere McCall          Brooklyn Nets  0.0"
      ]
     },
     "execution_count": 19,
     "metadata": {},
     "output_type": "execute_result"
    }
   ],
   "source": [
    "print(\"\\nThese 7 players had 0% of FT% and wouldn't be good on the Free Throw Line at the end of a game.\")\n",
    "nba_stats.sort_values('FT%')[['Name', 'Team', 'FT%']].head(7)"
   ]
  },
  {
   "cell_type": "code",
   "execution_count": null,
   "metadata": {},
   "outputs": [],
   "source": []
  }
 ],
 "metadata": {
  "kernelspec": {
   "display_name": "Python 3 (ipykernel)",
   "language": "python",
   "name": "python3"
  },
  "language_info": {
   "codemirror_mode": {
    "name": "ipython",
    "version": 3
   },
   "file_extension": ".py",
   "mimetype": "text/x-python",
   "name": "python",
   "nbconvert_exporter": "python",
   "pygments_lexer": "ipython3",
   "version": "3.11.5"
  }
 },
 "nbformat": 4,
 "nbformat_minor": 2
}
